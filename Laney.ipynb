{
 "cells": [
  {
   "cell_type": "code",
   "execution_count": 1,
   "id": "410ed4a0",
   "metadata": {},
   "outputs": [],
   "source": [
    "import math\n",
    "import statistics\n",
    "from scipy import stats \n",
    "import seaborn as sns\n",
    "import pandas as pd\n",
    "import numpy as np\n",
    "import matplotlib.pyplot as plt\n",
    "%matplotlib inline"
   ]
  },
  {
   "cell_type": "code",
   "execution_count": 2,
   "id": "a7687f56",
   "metadata": {},
   "outputs": [
    {
     "data": {
      "text/html": [
       "<div>\n",
       "<style scoped>\n",
       "    .dataframe tbody tr th:only-of-type {\n",
       "        vertical-align: middle;\n",
       "    }\n",
       "\n",
       "    .dataframe tbody tr th {\n",
       "        vertical-align: top;\n",
       "    }\n",
       "\n",
       "    .dataframe thead th {\n",
       "        text-align: right;\n",
       "    }\n",
       "</style>\n",
       "<table border=\"1\" class=\"dataframe\">\n",
       "  <thead>\n",
       "    <tr style=\"text-align: right;\">\n",
       "      <th></th>\n",
       "      <th>Date</th>\n",
       "      <th>Attempts</th>\n",
       "      <th>ASR (%)</th>\n",
       "    </tr>\n",
       "  </thead>\n",
       "  <tbody>\n",
       "    <tr>\n",
       "      <th>0</th>\n",
       "      <td>2020-01-01 00:00:00</td>\n",
       "      <td>653</td>\n",
       "      <td>43</td>\n",
       "    </tr>\n",
       "    <tr>\n",
       "      <th>1</th>\n",
       "      <td>2020-01-02 00:00:00</td>\n",
       "      <td>543</td>\n",
       "      <td>51</td>\n",
       "    </tr>\n",
       "    <tr>\n",
       "      <th>2</th>\n",
       "      <td>2020-01-03 00:00:00</td>\n",
       "      <td>457</td>\n",
       "      <td>47</td>\n",
       "    </tr>\n",
       "    <tr>\n",
       "      <th>3</th>\n",
       "      <td>2020-01-04 00:00:00</td>\n",
       "      <td>476</td>\n",
       "      <td>61</td>\n",
       "    </tr>\n",
       "    <tr>\n",
       "      <th>4</th>\n",
       "      <td>2020-01-05 00:00:00</td>\n",
       "      <td>522</td>\n",
       "      <td>39</td>\n",
       "    </tr>\n",
       "    <tr>\n",
       "      <th>5</th>\n",
       "      <td>2020-01-06 00:00:00</td>\n",
       "      <td>581</td>\n",
       "      <td>42</td>\n",
       "    </tr>\n",
       "    <tr>\n",
       "      <th>6</th>\n",
       "      <td>2020-01-07 00:00:00</td>\n",
       "      <td>601</td>\n",
       "      <td>59</td>\n",
       "    </tr>\n",
       "    <tr>\n",
       "      <th>7</th>\n",
       "      <td>2020-01-08 00:00:00</td>\n",
       "      <td>391</td>\n",
       "      <td>54</td>\n",
       "    </tr>\n",
       "    <tr>\n",
       "      <th>8</th>\n",
       "      <td>2020-01-09 00:00:00</td>\n",
       "      <td>456</td>\n",
       "      <td>49</td>\n",
       "    </tr>\n",
       "    <tr>\n",
       "      <th>9</th>\n",
       "      <td>2020-01-10 00:00:00</td>\n",
       "      <td>398</td>\n",
       "      <td>56</td>\n",
       "    </tr>\n",
       "    <tr>\n",
       "      <th>10</th>\n",
       "      <td>2020-01-11 00:00:00</td>\n",
       "      <td>429</td>\n",
       "      <td>44</td>\n",
       "    </tr>\n",
       "    <tr>\n",
       "      <th>11</th>\n",
       "      <td>2020-01-12 00:00:00</td>\n",
       "      <td>511</td>\n",
       "      <td>54</td>\n",
       "    </tr>\n",
       "    <tr>\n",
       "      <th>12</th>\n",
       "      <td>2020-01-13 00:00:00</td>\n",
       "      <td>562</td>\n",
       "      <td>47</td>\n",
       "    </tr>\n",
       "    <tr>\n",
       "      <th>13</th>\n",
       "      <td>2020-01-14 00:00:00</td>\n",
       "      <td>495</td>\n",
       "      <td>39</td>\n",
       "    </tr>\n",
       "    <tr>\n",
       "      <th>14</th>\n",
       "      <td>2020-01-15 00:00:00</td>\n",
       "      <td>604</td>\n",
       "      <td>52</td>\n",
       "    </tr>\n",
       "    <tr>\n",
       "      <th>15</th>\n",
       "      <td>2020-01-16 00:00:00</td>\n",
       "      <td>672</td>\n",
       "      <td>58</td>\n",
       "    </tr>\n",
       "    <tr>\n",
       "      <th>16</th>\n",
       "      <td>2020-01-17 00:00:00</td>\n",
       "      <td>455</td>\n",
       "      <td>43</td>\n",
       "    </tr>\n",
       "    <tr>\n",
       "      <th>17</th>\n",
       "      <td>2020-01-18 00:00:00</td>\n",
       "      <td>530</td>\n",
       "      <td>50</td>\n",
       "    </tr>\n",
       "    <tr>\n",
       "      <th>18</th>\n",
       "      <td>2020-01-19 00:00:00</td>\n",
       "      <td>486</td>\n",
       "      <td>44</td>\n",
       "    </tr>\n",
       "    <tr>\n",
       "      <th>19</th>\n",
       "      <td>2020-01-20 00:00:00</td>\n",
       "      <td>566</td>\n",
       "      <td>56</td>\n",
       "    </tr>\n",
       "    <tr>\n",
       "      <th>20</th>\n",
       "      <td>NaN</td>\n",
       "      <td>NaN</td>\n",
       "      <td>NaN</td>\n",
       "    </tr>\n",
       "    <tr>\n",
       "      <th>21</th>\n",
       "      <td>NaN</td>\n",
       "      <td>NaN</td>\n",
       "      <td>NaN</td>\n",
       "    </tr>\n",
       "    <tr>\n",
       "      <th>22</th>\n",
       "      <td>NaN</td>\n",
       "      <td>NaN</td>\n",
       "      <td>NaN</td>\n",
       "    </tr>\n",
       "    <tr>\n",
       "      <th>23</th>\n",
       "      <td>NaN</td>\n",
       "      <td>NaN</td>\n",
       "      <td>NaN</td>\n",
       "    </tr>\n",
       "    <tr>\n",
       "      <th>24</th>\n",
       "      <td>Date</td>\n",
       "      <td>Attempts</td>\n",
       "      <td>ASR (%)</td>\n",
       "    </tr>\n",
       "    <tr>\n",
       "      <th>25</th>\n",
       "      <td>2020-01-21 00:00:00</td>\n",
       "      <td>678</td>\n",
       "      <td>24</td>\n",
       "    </tr>\n",
       "  </tbody>\n",
       "</table>\n",
       "</div>"
      ],
      "text/plain": [
       "                   Date  Attempts  ASR (%)\n",
       "0   2020-01-01 00:00:00       653       43\n",
       "1   2020-01-02 00:00:00       543       51\n",
       "2   2020-01-03 00:00:00       457       47\n",
       "3   2020-01-04 00:00:00       476       61\n",
       "4   2020-01-05 00:00:00       522       39\n",
       "5   2020-01-06 00:00:00       581       42\n",
       "6   2020-01-07 00:00:00       601       59\n",
       "7   2020-01-08 00:00:00       391       54\n",
       "8   2020-01-09 00:00:00       456       49\n",
       "9   2020-01-10 00:00:00       398       56\n",
       "10  2020-01-11 00:00:00       429       44\n",
       "11  2020-01-12 00:00:00       511       54\n",
       "12  2020-01-13 00:00:00       562       47\n",
       "13  2020-01-14 00:00:00       495       39\n",
       "14  2020-01-15 00:00:00       604       52\n",
       "15  2020-01-16 00:00:00       672       58\n",
       "16  2020-01-17 00:00:00       455       43\n",
       "17  2020-01-18 00:00:00       530       50\n",
       "18  2020-01-19 00:00:00       486       44\n",
       "19  2020-01-20 00:00:00       566       56\n",
       "20                  NaN       NaN      NaN\n",
       "21                  NaN       NaN      NaN\n",
       "22                  NaN       NaN      NaN\n",
       "23                  NaN       NaN      NaN\n",
       "24                 Date  Attempts  ASR (%)\n",
       "25  2020-01-21 00:00:00       678       24"
      ]
     },
     "execution_count": 2,
     "metadata": {},
     "output_type": "execute_result"
    }
   ],
   "source": [
    "data = pd.read_excel(\"Пример для вычисления контрольных пределов по методу Ланея.xlsx\")\n",
    "data.head(30)"
   ]
  },
  {
   "cell_type": "code",
   "execution_count": 3,
   "id": "6917bd6f",
   "metadata": {},
   "outputs": [],
   "source": [
    "data.columns = ['Date', 'Attempts', 'ASR'] "
   ]
  },
  {
   "cell_type": "markdown",
   "id": "e4c3c0af",
   "metadata": {},
   "source": [
    "Если изменится колличество дне - до в следующей строке изменить 20 на новое значение."
   ]
  },
  {
   "cell_type": "code",
   "execution_count": 4,
   "id": "d26c0c81",
   "metadata": {},
   "outputs": [],
   "source": [
    "df = data.iloc[:20]\n",
    "df1 = data.iloc[25:]"
   ]
  },
  {
   "cell_type": "code",
   "execution_count": 6,
   "id": "f87f773d",
   "metadata": {},
   "outputs": [
    {
     "data": {
      "text/plain": [
       "49.4"
      ]
     },
     "execution_count": 6,
     "metadata": {},
     "output_type": "execute_result"
    }
   ],
   "source": [
    "np.mean(df.ASR)"
   ]
  },
  {
   "cell_type": "code",
   "execution_count": 7,
   "id": "5491430f",
   "metadata": {},
   "outputs": [
    {
     "data": {
      "text/plain": [
       "519.4"
      ]
     },
     "execution_count": 7,
     "metadata": {},
     "output_type": "execute_result"
    }
   ],
   "source": [
    "np.mean(df.Attempts)"
   ]
  },
  {
   "cell_type": "code",
   "execution_count": 8,
   "id": "532957b9",
   "metadata": {},
   "outputs": [
    {
     "name": "stderr",
     "output_type": "stream",
     "text": [
      "C:\\Users\\4F91~1\\AppData\\Local\\Temp/ipykernel_4004/1173406184.py:1: SettingWithCopyWarning: \n",
      "A value is trying to be set on a copy of a slice from a DataFrame.\n",
      "Try using .loc[row_indexer,col_indexer] = value instead\n",
      "\n",
      "See the caveats in the documentation: https://pandas.pydata.org/pandas-docs/stable/user_guide/indexing.html#returning-a-view-versus-a-copy\n",
      "  df['lagASR'] = df['ASR'].shift(1)\n"
     ]
    }
   ],
   "source": [
    "df['lagASR'] = df['ASR'].shift(1)"
   ]
  },
  {
   "cell_type": "code",
   "execution_count": 9,
   "id": "4185f0d7",
   "metadata": {},
   "outputs": [
    {
     "name": "stderr",
     "output_type": "stream",
     "text": [
      "C:\\Users\\4F91~1\\AppData\\Local\\Temp/ipykernel_4004/3765049214.py:1: SettingWithCopyWarning: \n",
      "A value is trying to be set on a copy of a slice from a DataFrame.\n",
      "Try using .loc[row_indexer,col_indexer] = value instead\n",
      "\n",
      "See the caveats in the documentation: https://pandas.pydata.org/pandas-docs/stable/user_guide/indexing.html#returning-a-view-versus-a-copy\n",
      "  df['A']= abs(df['ASR']-df['lagASR'])\n"
     ]
    }
   ],
   "source": [
    "df['A']= abs(df['ASR']-df['lagASR'])"
   ]
  },
  {
   "cell_type": "code",
   "execution_count": 11,
   "id": "5e69e4b8",
   "metadata": {},
   "outputs": [
    {
     "data": {
      "text/plain": [
       "9.526315789473685"
      ]
     },
     "execution_count": 11,
     "metadata": {},
     "output_type": "execute_result"
    }
   ],
   "source": [
    "np.mean(df.A)"
   ]
  },
  {
   "cell_type": "markdown",
   "id": "43d1cb00",
   "metadata": {},
   "source": [
    "Вычисляем границы 3 сигма"
   ]
  },
  {
   "cell_type": "code",
   "execution_count": 12,
   "id": "d0dc3301",
   "metadata": {},
   "outputs": [
    {
     "name": "stderr",
     "output_type": "stream",
     "text": [
      "C:\\Users\\4F91~1\\AppData\\Local\\Temp/ipykernel_4004/3935116781.py:1: SettingWithCopyWarning: \n",
      "A value is trying to be set on a copy of a slice from a DataFrame.\n",
      "Try using .loc[row_indexer,col_indexer] = value instead\n",
      "\n",
      "See the caveats in the documentation: https://pandas.pydata.org/pandas-docs/stable/user_guide/indexing.html#returning-a-view-versus-a-copy\n",
      "  df['UCL']=np.mean(df.ASR)+2.66*np.mean(df.A)*(np.mean(df.Attempts)/df['Attempts'])**(0.5)\n",
      "C:\\Users\\4F91~1\\AppData\\Local\\Temp/ipykernel_4004/3935116781.py:2: SettingWithCopyWarning: \n",
      "A value is trying to be set on a copy of a slice from a DataFrame.\n",
      "Try using .loc[row_indexer,col_indexer] = value instead\n",
      "\n",
      "See the caveats in the documentation: https://pandas.pydata.org/pandas-docs/stable/user_guide/indexing.html#returning-a-view-versus-a-copy\n",
      "  df['LCL']=np.mean(df.ASR)-2.66*np.mean(df.A)*(np.mean(df.Attempts)/df['Attempts'])**(0.5)\n"
     ]
    }
   ],
   "source": [
    "df['UCL']=np.mean(df.ASR)+2.66*np.mean(df.A)*(np.mean(df.Attempts)/df['Attempts'])**(0.5)\n",
    "df['LCL']=np.mean(df.ASR)-2.66*np.mean(df.A)*(np.mean(df.Attempts)/df['Attempts'])**(0.5)\n"
   ]
  },
  {
   "cell_type": "code",
   "execution_count": 13,
   "id": "f1f920bf",
   "metadata": {},
   "outputs": [
    {
     "data": {
      "text/html": [
       "<div>\n",
       "<style scoped>\n",
       "    .dataframe tbody tr th:only-of-type {\n",
       "        vertical-align: middle;\n",
       "    }\n",
       "\n",
       "    .dataframe tbody tr th {\n",
       "        vertical-align: top;\n",
       "    }\n",
       "\n",
       "    .dataframe thead th {\n",
       "        text-align: right;\n",
       "    }\n",
       "</style>\n",
       "<table border=\"1\" class=\"dataframe\">\n",
       "  <thead>\n",
       "    <tr style=\"text-align: right;\">\n",
       "      <th></th>\n",
       "      <th>Date</th>\n",
       "      <th>Attempts</th>\n",
       "      <th>ASR</th>\n",
       "      <th>lagASR</th>\n",
       "      <th>A</th>\n",
       "      <th>UCL</th>\n",
       "      <th>LCL</th>\n",
       "    </tr>\n",
       "  </thead>\n",
       "  <tbody>\n",
       "    <tr>\n",
       "      <th>0</th>\n",
       "      <td>2020-01-01 00:00:00</td>\n",
       "      <td>653</td>\n",
       "      <td>43</td>\n",
       "      <td>NaN</td>\n",
       "      <td>NaN</td>\n",
       "      <td>71.999612</td>\n",
       "      <td>26.800388</td>\n",
       "    </tr>\n",
       "    <tr>\n",
       "      <th>1</th>\n",
       "      <td>2020-01-02 00:00:00</td>\n",
       "      <td>543</td>\n",
       "      <td>51</td>\n",
       "      <td>43</td>\n",
       "      <td>8</td>\n",
       "      <td>74.183216</td>\n",
       "      <td>24.616784</td>\n",
       "    </tr>\n",
       "    <tr>\n",
       "      <th>2</th>\n",
       "      <td>2020-01-03 00:00:00</td>\n",
       "      <td>457</td>\n",
       "      <td>47</td>\n",
       "      <td>51</td>\n",
       "      <td>4</td>\n",
       "      <td>76.414659</td>\n",
       "      <td>22.385341</td>\n",
       "    </tr>\n",
       "    <tr>\n",
       "      <th>3</th>\n",
       "      <td>2020-01-04 00:00:00</td>\n",
       "      <td>476</td>\n",
       "      <td>61</td>\n",
       "      <td>47</td>\n",
       "      <td>14</td>\n",
       "      <td>75.87001</td>\n",
       "      <td>22.92999</td>\n",
       "    </tr>\n",
       "    <tr>\n",
       "      <th>4</th>\n",
       "      <td>2020-01-05 00:00:00</td>\n",
       "      <td>522</td>\n",
       "      <td>39</td>\n",
       "      <td>61</td>\n",
       "      <td>22</td>\n",
       "      <td>74.676814</td>\n",
       "      <td>24.123186</td>\n",
       "    </tr>\n",
       "    <tr>\n",
       "      <th>5</th>\n",
       "      <td>2020-01-06 00:00:00</td>\n",
       "      <td>581</td>\n",
       "      <td>42</td>\n",
       "      <td>39</td>\n",
       "      <td>3</td>\n",
       "      <td>73.359046</td>\n",
       "      <td>25.440954</td>\n",
       "    </tr>\n",
       "    <tr>\n",
       "      <th>6</th>\n",
       "      <td>2020-01-07 00:00:00</td>\n",
       "      <td>601</td>\n",
       "      <td>59</td>\n",
       "      <td>42</td>\n",
       "      <td>17</td>\n",
       "      <td>72.95702</td>\n",
       "      <td>25.84298</td>\n",
       "    </tr>\n",
       "    <tr>\n",
       "      <th>7</th>\n",
       "      <td>2020-01-08 00:00:00</td>\n",
       "      <td>391</td>\n",
       "      <td>54</td>\n",
       "      <td>59</td>\n",
       "      <td>5</td>\n",
       "      <td>78.605807</td>\n",
       "      <td>20.194193</td>\n",
       "    </tr>\n",
       "    <tr>\n",
       "      <th>8</th>\n",
       "      <td>2020-01-09 00:00:00</td>\n",
       "      <td>456</td>\n",
       "      <td>49</td>\n",
       "      <td>54</td>\n",
       "      <td>5</td>\n",
       "      <td>76.444264</td>\n",
       "      <td>22.355736</td>\n",
       "    </tr>\n",
       "    <tr>\n",
       "      <th>9</th>\n",
       "      <td>2020-01-10 00:00:00</td>\n",
       "      <td>398</td>\n",
       "      <td>56</td>\n",
       "      <td>49</td>\n",
       "      <td>7</td>\n",
       "      <td>78.347832</td>\n",
       "      <td>20.452168</td>\n",
       "    </tr>\n",
       "    <tr>\n",
       "      <th>10</th>\n",
       "      <td>2020-01-11 00:00:00</td>\n",
       "      <td>429</td>\n",
       "      <td>44</td>\n",
       "      <td>56</td>\n",
       "      <td>12</td>\n",
       "      <td>77.282322</td>\n",
       "      <td>21.517678</td>\n",
       "    </tr>\n",
       "    <tr>\n",
       "      <th>11</th>\n",
       "      <td>2020-01-12 00:00:00</td>\n",
       "      <td>511</td>\n",
       "      <td>54</td>\n",
       "      <td>44</td>\n",
       "      <td>10</td>\n",
       "      <td>74.947425</td>\n",
       "      <td>23.852575</td>\n",
       "    </tr>\n",
       "    <tr>\n",
       "      <th>12</th>\n",
       "      <td>2020-01-13 00:00:00</td>\n",
       "      <td>562</td>\n",
       "      <td>47</td>\n",
       "      <td>54</td>\n",
       "      <td>7</td>\n",
       "      <td>73.760681</td>\n",
       "      <td>25.039319</td>\n",
       "    </tr>\n",
       "    <tr>\n",
       "      <th>13</th>\n",
       "      <td>2020-01-14 00:00:00</td>\n",
       "      <td>495</td>\n",
       "      <td>39</td>\n",
       "      <td>47</td>\n",
       "      <td>8</td>\n",
       "      <td>75.357029</td>\n",
       "      <td>23.442971</td>\n",
       "    </tr>\n",
       "    <tr>\n",
       "      <th>14</th>\n",
       "      <td>2020-01-15 00:00:00</td>\n",
       "      <td>604</td>\n",
       "      <td>52</td>\n",
       "      <td>39</td>\n",
       "      <td>13</td>\n",
       "      <td>72.898444</td>\n",
       "      <td>25.901556</td>\n",
       "    </tr>\n",
       "    <tr>\n",
       "      <th>15</th>\n",
       "      <td>2020-01-16 00:00:00</td>\n",
       "      <td>672</td>\n",
       "      <td>58</td>\n",
       "      <td>52</td>\n",
       "      <td>6</td>\n",
       "      <td>71.677833</td>\n",
       "      <td>27.122167</td>\n",
       "    </tr>\n",
       "    <tr>\n",
       "      <th>16</th>\n",
       "      <td>2020-01-17 00:00:00</td>\n",
       "      <td>455</td>\n",
       "      <td>43</td>\n",
       "      <td>58</td>\n",
       "      <td>15</td>\n",
       "      <td>76.473966</td>\n",
       "      <td>22.326034</td>\n",
       "    </tr>\n",
       "    <tr>\n",
       "      <th>17</th>\n",
       "      <td>2020-01-18 00:00:00</td>\n",
       "      <td>530</td>\n",
       "      <td>50</td>\n",
       "      <td>43</td>\n",
       "      <td>7</td>\n",
       "      <td>74.48532</td>\n",
       "      <td>24.31468</td>\n",
       "    </tr>\n",
       "    <tr>\n",
       "      <th>18</th>\n",
       "      <td>2020-01-19 00:00:00</td>\n",
       "      <td>486</td>\n",
       "      <td>44</td>\n",
       "      <td>50</td>\n",
       "      <td>6</td>\n",
       "      <td>75.596269</td>\n",
       "      <td>23.203731</td>\n",
       "    </tr>\n",
       "    <tr>\n",
       "      <th>19</th>\n",
       "      <td>2020-01-20 00:00:00</td>\n",
       "      <td>566</td>\n",
       "      <td>56</td>\n",
       "      <td>44</td>\n",
       "      <td>12</td>\n",
       "      <td>73.674448</td>\n",
       "      <td>25.125552</td>\n",
       "    </tr>\n",
       "  </tbody>\n",
       "</table>\n",
       "</div>"
      ],
      "text/plain": [
       "                   Date Attempts ASR lagASR    A        UCL        LCL\n",
       "0   2020-01-01 00:00:00      653  43    NaN  NaN  71.999612  26.800388\n",
       "1   2020-01-02 00:00:00      543  51     43    8  74.183216  24.616784\n",
       "2   2020-01-03 00:00:00      457  47     51    4  76.414659  22.385341\n",
       "3   2020-01-04 00:00:00      476  61     47   14   75.87001   22.92999\n",
       "4   2020-01-05 00:00:00      522  39     61   22  74.676814  24.123186\n",
       "5   2020-01-06 00:00:00      581  42     39    3  73.359046  25.440954\n",
       "6   2020-01-07 00:00:00      601  59     42   17   72.95702   25.84298\n",
       "7   2020-01-08 00:00:00      391  54     59    5  78.605807  20.194193\n",
       "8   2020-01-09 00:00:00      456  49     54    5  76.444264  22.355736\n",
       "9   2020-01-10 00:00:00      398  56     49    7  78.347832  20.452168\n",
       "10  2020-01-11 00:00:00      429  44     56   12  77.282322  21.517678\n",
       "11  2020-01-12 00:00:00      511  54     44   10  74.947425  23.852575\n",
       "12  2020-01-13 00:00:00      562  47     54    7  73.760681  25.039319\n",
       "13  2020-01-14 00:00:00      495  39     47    8  75.357029  23.442971\n",
       "14  2020-01-15 00:00:00      604  52     39   13  72.898444  25.901556\n",
       "15  2020-01-16 00:00:00      672  58     52    6  71.677833  27.122167\n",
       "16  2020-01-17 00:00:00      455  43     58   15  76.473966  22.326034\n",
       "17  2020-01-18 00:00:00      530  50     43    7   74.48532   24.31468\n",
       "18  2020-01-19 00:00:00      486  44     50    6  75.596269  23.203731\n",
       "19  2020-01-20 00:00:00      566  56     44   12  73.674448  25.125552"
      ]
     },
     "execution_count": 13,
     "metadata": {},
     "output_type": "execute_result"
    }
   ],
   "source": [
    "df"
   ]
  },
  {
   "cell_type": "code",
   "execution_count": 14,
   "id": "218e831b",
   "metadata": {},
   "outputs": [
    {
     "data": {
      "image/png": "[encoded data removed]",
      "text/plain": [
       "<Figure size 1152x288 with 1 Axes>"
      ]
     },
     "metadata": {
      "needs_background": "light"
     },
     "output_type": "display_data"
    }
   ],
   "source": [
    "x = df.Date\n",
    "ASR = df.ASR\n",
    "UCL = df.UCL\n",
    "LCL = df.LCL\n",
    "fig = plt.figure(figsize=(16,4))\n",
    "ax = fig.add_subplot()\n",
    "ax.plot(x, ASR, color= 'g', label='ASR')\n",
    "ax.plot(x, UCL, color= 'b', label='UCL')\n",
    "ax.plot(x, LCL, color= 'r', label='LCL')\n",
    "legend_box = plt.legend(framealpha=1).get_frame()\n",
    "legend_box.set_facecolor(\"white\")\n",
    "legend_box.set_edgecolor(\"black\")\n",
    "\n",
    "plt.show()"
   ]
  },
  {
   "cell_type": "code",
   "execution_count": 15,
   "id": "448551f9",
   "metadata": {},
   "outputs": [
    {
     "name": "stderr",
     "output_type": "stream",
     "text": [
      "C:\\Users\\4F91~1\\AppData\\Local\\Temp/ipykernel_4004/3863577839.py:1: SettingWithCopyWarning: \n",
      "A value is trying to be set on a copy of a slice from a DataFrame.\n",
      "Try using .loc[row_indexer,col_indexer] = value instead\n",
      "\n",
      "See the caveats in the documentation: https://pandas.pydata.org/pandas-docs/stable/user_guide/indexing.html#returning-a-view-versus-a-copy\n",
      "  df1['UCL'] = np.mean(df.ASR) + 2.66*np.mean(df.A)*(np.mean(df.Attempts)/data.Attempts.iloc[25:])**(0.5)\n"
     ]
    }
   ],
   "source": [
    "df1['UCL'] = np.mean(df.ASR) + 2.66*np.mean(df.A)*(np.mean(df.Attempts)/data.Attempts.iloc[25:])**(0.5)"
   ]
  },
  {
   "cell_type": "code",
   "execution_count": 16,
   "id": "c4509733",
   "metadata": {},
   "outputs": [
    {
     "name": "stderr",
     "output_type": "stream",
     "text": [
      "C:\\Users\\4F91~1\\AppData\\Local\\Temp/ipykernel_4004/3923162012.py:1: SettingWithCopyWarning: \n",
      "A value is trying to be set on a copy of a slice from a DataFrame.\n",
      "Try using .loc[row_indexer,col_indexer] = value instead\n",
      "\n",
      "See the caveats in the documentation: https://pandas.pydata.org/pandas-docs/stable/user_guide/indexing.html#returning-a-view-versus-a-copy\n",
      "  df1['LCL'] = np.mean(df.ASR) - 2.66*np.mean(df.A)*(np.mean(df.Attempts)/data.Attempts.iloc[25:])**(0.5)\n"
     ]
    }
   ],
   "source": [
    "df1['LCL'] = np.mean(df.ASR) - 2.66*np.mean(df.A)*(np.mean(df.Attempts)/data.Attempts.iloc[25:])**(0.5)"
   ]
  },
  {
   "cell_type": "code",
   "execution_count": 17,
   "id": "84d61fa2",
   "metadata": {},
   "outputs": [
    {
     "data": {
      "text/html": [
       "<div>\n",
       "<style scoped>\n",
       "    .dataframe tbody tr th:only-of-type {\n",
       "        vertical-align: middle;\n",
       "    }\n",
       "\n",
       "    .dataframe tbody tr th {\n",
       "        vertical-align: top;\n",
       "    }\n",
       "\n",
       "    .dataframe thead th {\n",
       "        text-align: right;\n",
       "    }\n",
       "</style>\n",
       "<table border=\"1\" class=\"dataframe\">\n",
       "  <thead>\n",
       "    <tr style=\"text-align: right;\">\n",
       "      <th></th>\n",
       "      <th>Date</th>\n",
       "      <th>Attempts</th>\n",
       "      <th>ASR</th>\n",
       "      <th>UCL</th>\n",
       "      <th>LCL</th>\n",
       "    </tr>\n",
       "  </thead>\n",
       "  <tbody>\n",
       "    <tr>\n",
       "      <th>25</th>\n",
       "      <td>2020-01-21 00:00:00</td>\n",
       "      <td>678</td>\n",
       "      <td>24</td>\n",
       "      <td>71.57904</td>\n",
       "      <td>27.22096</td>\n",
       "    </tr>\n",
       "  </tbody>\n",
       "</table>\n",
       "</div>"
      ],
      "text/plain": [
       "                   Date Attempts ASR       UCL       LCL\n",
       "25  2020-01-21 00:00:00      678  24  71.57904  27.22096"
      ]
     },
     "execution_count": 17,
     "metadata": {},
     "output_type": "execute_result"
    }
   ],
   "source": [
    "df1"
   ]
  },
  {
   "cell_type": "code",
   "execution_count": null,
   "id": "60ef62a6",
   "metadata": {},
   "outputs": [],
   "source": [
    "Значение ASR выходит за границы диапазона 3 сигма."
   ]
  }
 ],
 "metadata": {
  "kernelspec": {
   "display_name": "Python 3 (ipykernel)",
   "language": "python",
   "name": "python3"
  },
  "language_info": {
   "codemirror_mode": {
    "name": "ipython",
    "version": 3
   },
   "file_extension": ".py",
   "mimetype": "text/x-python",
   "name": "python",
   "nbconvert_exporter": "python",
   "pygments_lexer": "ipython3",
   "version": "3.9.12"
  }
 },
 "nbformat": 4,
 "nbformat_minor": 5
}
