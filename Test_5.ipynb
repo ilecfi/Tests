{
 "cells": [
  {
   "cell_type": "code",
   "execution_count": 1,
   "id": "76f9b665",
   "metadata": {},
   "outputs": [],
   "source": [
    "import pandas as pd\n",
    "import seaborn as sns\n",
    "import numpy as np\n",
    "from sklearn.linear_model import LinearRegression\n",
    "\n",
    "sns.set(rc={'figure.figsize': (15,9)}) "
   ]
  },
  {
   "cell_type": "code",
   "execution_count": 2,
   "id": "3857b85b",
   "metadata": {},
   "outputs": [
    {
     "data": {
      "text/html": [
       "<div>\n",
       "<style scoped>\n",
       "    .dataframe tbody tr th:only-of-type {\n",
       "        vertical-align: middle;\n",
       "    }\n",
       "\n",
       "    .dataframe tbody tr th {\n",
       "        vertical-align: top;\n",
       "    }\n",
       "\n",
       "    .dataframe thead th {\n",
       "        text-align: right;\n",
       "    }\n",
       "</style>\n",
       "<table border=\"1\" class=\"dataframe\">\n",
       "  <thead>\n",
       "    <tr style=\"text-align: right;\">\n",
       "      <th></th>\n",
       "      <th>Дата</th>\n",
       "      <th>Количество пользователей</th>\n",
       "    </tr>\n",
       "  </thead>\n",
       "  <tbody>\n",
       "    <tr>\n",
       "      <th>0</th>\n",
       "      <td>2022-02-03 00:00:00</td>\n",
       "      <td>0</td>\n",
       "    </tr>\n",
       "    <tr>\n",
       "      <th>1</th>\n",
       "      <td>2022-02-03 00:01:00</td>\n",
       "      <td>0</td>\n",
       "    </tr>\n",
       "    <tr>\n",
       "      <th>2</th>\n",
       "      <td>2022-02-03 00:02:00</td>\n",
       "      <td>0</td>\n",
       "    </tr>\n",
       "    <tr>\n",
       "      <th>3</th>\n",
       "      <td>2022-02-03 00:03:00</td>\n",
       "      <td>0</td>\n",
       "    </tr>\n",
       "    <tr>\n",
       "      <th>4</th>\n",
       "      <td>2022-02-03 00:04:00</td>\n",
       "      <td>0</td>\n",
       "    </tr>\n",
       "    <tr>\n",
       "      <th>5</th>\n",
       "      <td>2022-02-03 00:05:00</td>\n",
       "      <td>0</td>\n",
       "    </tr>\n",
       "    <tr>\n",
       "      <th>6</th>\n",
       "      <td>2022-02-03 00:06:00</td>\n",
       "      <td>0</td>\n",
       "    </tr>\n",
       "    <tr>\n",
       "      <th>7</th>\n",
       "      <td>2022-02-03 00:07:00</td>\n",
       "      <td>0</td>\n",
       "    </tr>\n",
       "    <tr>\n",
       "      <th>8</th>\n",
       "      <td>2022-02-03 00:08:00</td>\n",
       "      <td>0</td>\n",
       "    </tr>\n",
       "    <tr>\n",
       "      <th>9</th>\n",
       "      <td>2022-02-03 00:09:00</td>\n",
       "      <td>0</td>\n",
       "    </tr>\n",
       "  </tbody>\n",
       "</table>\n",
       "</div>"
      ],
      "text/plain": [
       "                 Дата  Количество пользователей\n",
       "0 2022-02-03 00:00:00                         0\n",
       "1 2022-02-03 00:01:00                         0\n",
       "2 2022-02-03 00:02:00                         0\n",
       "3 2022-02-03 00:03:00                         0\n",
       "4 2022-02-03 00:04:00                         0\n",
       "5 2022-02-03 00:05:00                         0\n",
       "6 2022-02-03 00:06:00                         0\n",
       "7 2022-02-03 00:07:00                         0\n",
       "8 2022-02-03 00:08:00                         0\n",
       "9 2022-02-03 00:09:00                         0"
      ]
     },
     "execution_count": 2,
     "metadata": {},
     "output_type": "execute_result"
    }
   ],
   "source": [
    "data = pd.read_excel(\"2_5210939182918146122.xlsx\")\n",
    "data.head(10)"
   ]
  },
  {
   "cell_type": "code",
   "execution_count": 3,
   "id": "0fa0619c",
   "metadata": {},
   "outputs": [
    {
     "data": {
      "text/plain": [
       "Дата                        0\n",
       "Количество пользователей    0\n",
       "dtype: int64"
      ]
     },
     "execution_count": 3,
     "metadata": {},
     "output_type": "execute_result"
    }
   ],
   "source": [
    "pd.isnull(data).sum()"
   ]
  },
  {
   "cell_type": "code",
   "execution_count": 4,
   "id": "8bbee2b2",
   "metadata": {},
   "outputs": [
    {
     "data": {
      "text/html": [
       "<div>\n",
       "<style scoped>\n",
       "    .dataframe tbody tr th:only-of-type {\n",
       "        vertical-align: middle;\n",
       "    }\n",
       "\n",
       "    .dataframe tbody tr th {\n",
       "        vertical-align: top;\n",
       "    }\n",
       "\n",
       "    .dataframe thead th {\n",
       "        text-align: right;\n",
       "    }\n",
       "</style>\n",
       "<table border=\"1\" class=\"dataframe\">\n",
       "  <thead>\n",
       "    <tr style=\"text-align: right;\">\n",
       "      <th></th>\n",
       "      <th>Количество пользователей</th>\n",
       "    </tr>\n",
       "  </thead>\n",
       "  <tbody>\n",
       "    <tr>\n",
       "      <th>count</th>\n",
       "      <td>1440.000000</td>\n",
       "    </tr>\n",
       "    <tr>\n",
       "      <th>mean</th>\n",
       "      <td>951.282639</td>\n",
       "    </tr>\n",
       "    <tr>\n",
       "      <th>std</th>\n",
       "      <td>1054.902300</td>\n",
       "    </tr>\n",
       "    <tr>\n",
       "      <th>min</th>\n",
       "      <td>0.000000</td>\n",
       "    </tr>\n",
       "    <tr>\n",
       "      <th>25%</th>\n",
       "      <td>0.000000</td>\n",
       "    </tr>\n",
       "    <tr>\n",
       "      <th>50%</th>\n",
       "      <td>163.500000</td>\n",
       "    </tr>\n",
       "    <tr>\n",
       "      <th>75%</th>\n",
       "      <td>2115.750000</td>\n",
       "    </tr>\n",
       "    <tr>\n",
       "      <th>max</th>\n",
       "      <td>3279.000000</td>\n",
       "    </tr>\n",
       "  </tbody>\n",
       "</table>\n",
       "</div>"
      ],
      "text/plain": [
       "       Количество пользователей\n",
       "count               1440.000000\n",
       "mean                 951.282639\n",
       "std                 1054.902300\n",
       "min                    0.000000\n",
       "25%                    0.000000\n",
       "50%                  163.500000\n",
       "75%                 2115.750000\n",
       "max                 3279.000000"
      ]
     },
     "execution_count": 4,
     "metadata": {},
     "output_type": "execute_result"
    }
   ],
   "source": [
    "data.describe()"
   ]
  },
  {
   "cell_type": "code",
   "execution_count": 5,
   "id": "f09067de",
   "metadata": {},
   "outputs": [],
   "source": [
    "data.columns = ['Date', 'Amount'] "
   ]
  },
  {
   "cell_type": "code",
   "execution_count": 6,
   "id": "a65d67e9",
   "metadata": {},
   "outputs": [],
   "source": [
    "df = data.iloc[240:]"
   ]
  },
  {
   "cell_type": "code",
   "execution_count": 7,
   "id": "89e14931",
   "metadata": {},
   "outputs": [
    {
     "data": {
      "text/html": [
       "<div>\n",
       "<style scoped>\n",
       "    .dataframe tbody tr th:only-of-type {\n",
       "        vertical-align: middle;\n",
       "    }\n",
       "\n",
       "    .dataframe tbody tr th {\n",
       "        vertical-align: top;\n",
       "    }\n",
       "\n",
       "    .dataframe thead th {\n",
       "        text-align: right;\n",
       "    }\n",
       "</style>\n",
       "<table border=\"1\" class=\"dataframe\">\n",
       "  <thead>\n",
       "    <tr style=\"text-align: right;\">\n",
       "      <th></th>\n",
       "      <th>Date</th>\n",
       "      <th>Amount</th>\n",
       "    </tr>\n",
       "  </thead>\n",
       "  <tbody>\n",
       "    <tr>\n",
       "      <th>240</th>\n",
       "      <td>2022-02-03 04:00:00</td>\n",
       "      <td>0</td>\n",
       "    </tr>\n",
       "    <tr>\n",
       "      <th>241</th>\n",
       "      <td>2022-02-03 04:01:00</td>\n",
       "      <td>0</td>\n",
       "    </tr>\n",
       "    <tr>\n",
       "      <th>242</th>\n",
       "      <td>2022-02-03 04:02:00</td>\n",
       "      <td>0</td>\n",
       "    </tr>\n",
       "    <tr>\n",
       "      <th>243</th>\n",
       "      <td>2022-02-03 04:03:00</td>\n",
       "      <td>22</td>\n",
       "    </tr>\n",
       "    <tr>\n",
       "      <th>244</th>\n",
       "      <td>2022-02-03 04:04:00</td>\n",
       "      <td>0</td>\n",
       "    </tr>\n",
       "    <tr>\n",
       "      <th>...</th>\n",
       "      <td>...</td>\n",
       "      <td>...</td>\n",
       "    </tr>\n",
       "    <tr>\n",
       "      <th>1435</th>\n",
       "      <td>2022-02-03 23:55:00</td>\n",
       "      <td>0</td>\n",
       "    </tr>\n",
       "    <tr>\n",
       "      <th>1436</th>\n",
       "      <td>2022-02-03 23:56:00</td>\n",
       "      <td>0</td>\n",
       "    </tr>\n",
       "    <tr>\n",
       "      <th>1437</th>\n",
       "      <td>2022-02-03 23:57:00</td>\n",
       "      <td>0</td>\n",
       "    </tr>\n",
       "    <tr>\n",
       "      <th>1438</th>\n",
       "      <td>2022-02-03 23:58:00</td>\n",
       "      <td>0</td>\n",
       "    </tr>\n",
       "    <tr>\n",
       "      <th>1439</th>\n",
       "      <td>2022-02-03 23:59:00</td>\n",
       "      <td>0</td>\n",
       "    </tr>\n",
       "  </tbody>\n",
       "</table>\n",
       "<p>1200 rows × 2 columns</p>\n",
       "</div>"
      ],
      "text/plain": [
       "                    Date  Amount\n",
       "240  2022-02-03 04:00:00       0\n",
       "241  2022-02-03 04:01:00       0\n",
       "242  2022-02-03 04:02:00       0\n",
       "243  2022-02-03 04:03:00      22\n",
       "244  2022-02-03 04:04:00       0\n",
       "...                  ...     ...\n",
       "1435 2022-02-03 23:55:00       0\n",
       "1436 2022-02-03 23:56:00       0\n",
       "1437 2022-02-03 23:57:00       0\n",
       "1438 2022-02-03 23:58:00       0\n",
       "1439 2022-02-03 23:59:00       0\n",
       "\n",
       "[1200 rows x 2 columns]"
      ]
     },
     "execution_count": 7,
     "metadata": {},
     "output_type": "execute_result"
    }
   ],
   "source": [
    "df"
   ]
  },
  {
   "cell_type": "code",
   "execution_count": 8,
   "id": "ca86be57",
   "metadata": {},
   "outputs": [
    {
     "name": "stderr",
     "output_type": "stream",
     "text": [
      "C:\\ProgramData\\Anaconda3\\lib\\site-packages\\seaborn\\_decorators.py:36: FutureWarning: Pass the following variables as keyword args: x, y. From version 0.12, the only valid positional argument will be `data`, and passing other arguments without an explicit keyword will result in an error or misinterpretation.\n",
      "  warnings.warn(\n"
     ]
    },
    {
     "data": {
      "text/plain": [
       "<AxesSubplot:xlabel='Date', ylabel='Amount'>"
      ]
     },
     "execution_count": 8,
     "metadata": {},
     "output_type": "execute_result"
    },
    {
     "data": {
      "image/png": "[encoded data removed]",
      "text/plain": [
       "<Figure size 1080x648 with 1 Axes>"
      ]
     },
     "metadata": {},
     "output_type": "display_data"
    }
   ],
   "source": [
    "sns.lineplot(df.iloc[:, 0], df.iloc[:, 1])"
   ]
  },
  {
   "cell_type": "code",
   "execution_count": 9,
   "id": "79dea815",
   "metadata": {},
   "outputs": [],
   "source": [
    "users = df[(df['Date'] > '2022-02-03 08:53:00') & (df['Date'] < '2022-02-03 10:16:00')]"
   ]
  },
  {
   "cell_type": "code",
   "execution_count": 10,
   "id": "bc92cacf",
   "metadata": {},
   "outputs": [
    {
     "data": {
      "text/plain": [
       "8203"
      ]
     },
     "execution_count": 10,
     "metadata": {},
     "output_type": "execute_result"
    }
   ],
   "source": [
    "users.Amount.sum()"
   ]
  },
  {
   "cell_type": "code",
   "execution_count": 11,
   "id": "3af3e1b3",
   "metadata": {},
   "outputs": [],
   "source": [
    "a = df.Amount[8*60+53]\n",
    "b = df.Amount[10*60+16]"
   ]
  },
  {
   "cell_type": "code",
   "execution_count": 12,
   "id": "310ded83",
   "metadata": {},
   "outputs": [],
   "source": [
    "S = (a+b)/2 * ((10*60 + 16) - (8*60 + 53)) - a - b"
   ]
  },
  {
   "cell_type": "code",
   "execution_count": 13,
   "id": "49827054",
   "metadata": {},
   "outputs": [
    {
     "data": {
      "text/plain": [
       "65570"
      ]
     },
     "execution_count": 13,
     "metadata": {},
     "output_type": "execute_result"
    }
   ],
   "source": [
    "S = round(S)\n",
    "S"
   ]
  },
  {
   "cell_type": "code",
   "execution_count": 14,
   "id": "caa09964",
   "metadata": {},
   "outputs": [
    {
     "data": {
      "text/plain": [
       "57367"
      ]
     },
     "execution_count": 14,
     "metadata": {},
     "output_type": "execute_result"
    }
   ],
   "source": [
    "lost_1 = S - users.Amount.sum()\n",
    "lost_1"
   ]
  },
  {
   "cell_type": "markdown",
   "id": "3b3ee11f",
   "metadata": {},
   "source": [
    "Если посчитать площадь под графиком как площадь прямоугольной трапеции, где крайними точками будут моменты появления и окончания проблем на сайте, то потери пользователей составляют 57367."
   ]
  },
  {
   "cell_type": "markdown",
   "id": "98b5d408",
   "metadata": {},
   "source": [
    "Далее апроксимируем потерянные данные по 20 точкам с помощью полиномов 1, 2 и 3 порядков."
   ]
  },
  {
   "cell_type": "code",
   "execution_count": 15,
   "id": "87d8d880",
   "metadata": {},
   "outputs": [
    {
     "name": "stdout",
     "output_type": "stream",
     "text": [
      " \n",
      "14.84 x - 7614\n"
     ]
    }
   ],
   "source": [
    "x = np.array([524,525,526,527,528,529,530,531,532,533,616,617,618,619,620,621,622,623,624,625])\n",
    "y = np.array([113,320,165,193,223,215,217,308,296,269,1350,1345,1448,1786,1441,1500,1873,1495,1765,1908])\n",
    "t1 = np.polyfit(x,y,1)\n",
    "f1 = np.poly1d(t1)\n",
    "print(f1)"
   ]
  },
  {
   "cell_type": "code",
   "execution_count": 16,
   "id": "26ef63e1",
   "metadata": {},
   "outputs": [
    {
     "data": {
      "text/plain": [
       "65635"
      ]
     },
     "execution_count": 16,
     "metadata": {},
     "output_type": "execute_result"
    }
   ],
   "source": [
    "from scipy import integrate\n",
    "def g1(x):\n",
    "    return 14.84*x - 7614\n",
    "v1, err = integrate.quad(g1, 534, 615)\n",
    "lost_21 = round(v1 - users.Amount.sum())\n",
    "lost_21"
   ]
  },
  {
   "cell_type": "code",
   "execution_count": 17,
   "id": "7ab27af2",
   "metadata": {},
   "outputs": [
    {
     "name": "stdout",
     "output_type": "stream",
     "text": [
      "        2\n",
      "0.2142 x - 231.3 x + 6.263e+04\n"
     ]
    }
   ],
   "source": [
    "t2 = np.polyfit(x,y,2)\n",
    "f2 = np.poly1d(t2)\n",
    "print(f2)"
   ]
  },
  {
   "cell_type": "code",
   "execution_count": 18,
   "id": "61db60f3",
   "metadata": {},
   "outputs": [
    {
     "data": {
      "text/plain": [
       "37321"
      ]
     },
     "execution_count": 18,
     "metadata": {},
     "output_type": "execute_result"
    }
   ],
   "source": [
    "from scipy import integrate\n",
    "def g2(x):\n",
    "    return 0.2142*x*x - 231.3*x + 6.263e+04\n",
    "v2, err = integrate.quad(g2, 534, 615)\n",
    "lost_22 = round(v2 - users.Amount.sum())\n",
    "lost_22"
   ]
  },
  {
   "cell_type": "code",
   "execution_count": 19,
   "id": "5cef99e3",
   "metadata": {},
   "outputs": [
    {
     "name": "stdout",
     "output_type": "stream",
     "text": [
      "          3         2\n",
      "0.004037 x - 6.743 x + 3757 x - 6.978e+05\n"
     ]
    }
   ],
   "source": [
    "t3 = np.polyfit(x,y,3)\n",
    "f3 = np.poly1d(t3)\n",
    "print(f3)"
   ]
  },
  {
   "cell_type": "code",
   "execution_count": 20,
   "id": "3381c2c4",
   "metadata": {},
   "outputs": [
    {
     "data": {
      "text/plain": [
       "44955"
      ]
     },
     "execution_count": 20,
     "metadata": {},
     "output_type": "execute_result"
    }
   ],
   "source": [
    "from scipy import integrate\n",
    "def g3(x):\n",
    "    return 0.004037*x*x*x - 6.743*x*x + 3757*x - 6.978e+05\n",
    "v3, err = integrate.quad(g3, 534, 615)\n",
    "lost_23 = round(v3 - users.Amount.sum())\n",
    "lost_23"
   ]
  },
  {
   "cell_type": "markdown",
   "id": "f2bd6b05",
   "metadata": {},
   "source": [
    "Полином 1го порядка - потери 65635 пользователей\n",
    "Полином 2го порядка - потери 37321 пользователей\n",
    "Полином 3го порядка - потери 44955 пользователей\n"
   ]
  },
  {
   "cell_type": "code",
   "execution_count": 21,
   "id": "087ede73",
   "metadata": {},
   "outputs": [
    {
     "data": {
      "text/plain": [
       "70281"
      ]
     },
     "execution_count": 21,
     "metadata": {},
     "output_type": "execute_result"
    }
   ],
   "source": [
    "round((df.Amount.sum()-users.Amount.sum())/1440*83 - users.Amount.sum())"
   ]
  },
  {
   "cell_type": "markdown",
   "id": "2c3ad59e",
   "metadata": {},
   "source": [
    "При замене потерянных данных средним значением потери составляют 70281 пользователь."
   ]
  },
  {
   "cell_type": "code",
   "execution_count": 22,
   "id": "9189e333",
   "metadata": {},
   "outputs": [],
   "source": [
    "x = np.array([524,525,526,527,528,529,530,531,532,533,616,617,618,619,620,621,622,623,624,625]).reshape((-1, 1))\n",
    "y = np.array([113,320,165,193,223,215,217,308,296,269,1350,1345,1448,1786,1441,1500,1873,1495,1765,1908])"
   ]
  },
  {
   "cell_type": "code",
   "execution_count": 23,
   "id": "f20a4211",
   "metadata": {},
   "outputs": [],
   "source": [
    "model = LinearRegression().fit(x, y)"
   ]
  },
  {
   "cell_type": "code",
   "execution_count": 24,
   "id": "760179b1",
   "metadata": {},
   "outputs": [],
   "source": [
    "R2 = model.score(x, y)"
   ]
  },
  {
   "cell_type": "code",
   "execution_count": 25,
   "id": "af59183f",
   "metadata": {},
   "outputs": [
    {
     "name": "stdout",
     "output_type": "stream",
     "text": [
      "coefficient of determination: 0.9642078835498111\n"
     ]
    }
   ],
   "source": [
    "print('coefficient of determination:', R2)"
   ]
  },
  {
   "cell_type": "markdown",
   "id": "15f3a729",
   "metadata": {},
   "source": [
    "При таком значении R^2 разумно использовать линейную регрессию"
   ]
  },
  {
   "cell_type": "code",
   "execution_count": 26,
   "id": "e7db62ca",
   "metadata": {},
   "outputs": [
    {
     "name": "stdout",
     "output_type": "stream",
     "text": [
      "intercept: -7614.358561845356\n"
     ]
    }
   ],
   "source": [
    "print('intercept:', model.intercept_)"
   ]
  },
  {
   "cell_type": "code",
   "execution_count": 27,
   "id": "fec0be04",
   "metadata": {},
   "outputs": [
    {
     "name": "stdout",
     "output_type": "stream",
     "text": [
      "slope: [14.84048488]\n"
     ]
    }
   ],
   "source": [
    "print('slope:', model.coef_)"
   ]
  },
  {
   "cell_type": "code",
   "execution_count": 28,
   "id": "922ca5ef",
   "metadata": {},
   "outputs": [],
   "source": [
    "y_pred = model.predict(x)\n",
    "y_pred = model.intercept_ + model.coef_ * x"
   ]
  },
  {
   "cell_type": "code",
   "execution_count": 29,
   "id": "5c1da9a0",
   "metadata": {},
   "outputs": [],
   "source": [
    "x_ = np.array([534,535,536,537,538,539,540,541,542,543,544,545,546,547,548,549,550,551,552,553,554,555,556,557,558,559,560,561,562,563,564,565,566,567,568,569,570,571,572,573,574,575,576,577,578,579,580,581,582,583,584,585,586,587,588,589,590,591,592,593,594,595,596,597,598,599,600,601,602,603,604,605,606,607,608,609,610,611,612,613,614,615])"
   ]
  },
  {
   "cell_type": "code",
   "execution_count": 30,
   "id": "8cea00b5",
   "metadata": {},
   "outputs": [],
   "source": [
    "x_new = x_.reshape((-1, 1))\n",
    "y_new = model.predict(x_new)"
   ]
  },
  {
   "cell_type": "code",
   "execution_count": 31,
   "id": "f9171481",
   "metadata": {},
   "outputs": [
    {
     "data": {
      "text/html": [
       "<div>\n",
       "<style scoped>\n",
       "    .dataframe tbody tr th:only-of-type {\n",
       "        vertical-align: middle;\n",
       "    }\n",
       "\n",
       "    .dataframe tbody tr th {\n",
       "        vertical-align: top;\n",
       "    }\n",
       "\n",
       "    .dataframe thead th {\n",
       "        text-align: right;\n",
       "    }\n",
       "</style>\n",
       "<table border=\"1\" class=\"dataframe\">\n",
       "  <thead>\n",
       "    <tr style=\"text-align: right;\">\n",
       "      <th></th>\n",
       "      <th>Time_code</th>\n",
       "      <th>Predict_amount</th>\n",
       "    </tr>\n",
       "  </thead>\n",
       "  <tbody>\n",
       "    <tr>\n",
       "      <th>0</th>\n",
       "      <td>534</td>\n",
       "      <td>310.460362</td>\n",
       "    </tr>\n",
       "    <tr>\n",
       "      <th>1</th>\n",
       "      <td>535</td>\n",
       "      <td>325.300847</td>\n",
       "    </tr>\n",
       "    <tr>\n",
       "      <th>2</th>\n",
       "      <td>536</td>\n",
       "      <td>340.141332</td>\n",
       "    </tr>\n",
       "    <tr>\n",
       "      <th>3</th>\n",
       "      <td>537</td>\n",
       "      <td>354.981817</td>\n",
       "    </tr>\n",
       "    <tr>\n",
       "      <th>4</th>\n",
       "      <td>538</td>\n",
       "      <td>369.822302</td>\n",
       "    </tr>\n",
       "    <tr>\n",
       "      <th>...</th>\n",
       "      <td>...</td>\n",
       "      <td>...</td>\n",
       "    </tr>\n",
       "    <tr>\n",
       "      <th>77</th>\n",
       "      <td>611</td>\n",
       "      <td>1453.177698</td>\n",
       "    </tr>\n",
       "    <tr>\n",
       "      <th>78</th>\n",
       "      <td>612</td>\n",
       "      <td>1468.018183</td>\n",
       "    </tr>\n",
       "    <tr>\n",
       "      <th>79</th>\n",
       "      <td>613</td>\n",
       "      <td>1482.858668</td>\n",
       "    </tr>\n",
       "    <tr>\n",
       "      <th>80</th>\n",
       "      <td>614</td>\n",
       "      <td>1497.699153</td>\n",
       "    </tr>\n",
       "    <tr>\n",
       "      <th>81</th>\n",
       "      <td>615</td>\n",
       "      <td>1512.539638</td>\n",
       "    </tr>\n",
       "  </tbody>\n",
       "</table>\n",
       "<p>82 rows × 2 columns</p>\n",
       "</div>"
      ],
      "text/plain": [
       "    Time_code  Predict_amount\n",
       "0         534      310.460362\n",
       "1         535      325.300847\n",
       "2         536      340.141332\n",
       "3         537      354.981817\n",
       "4         538      369.822302\n",
       "..        ...             ...\n",
       "77        611     1453.177698\n",
       "78        612     1468.018183\n",
       "79        613     1482.858668\n",
       "80        614     1497.699153\n",
       "81        615     1512.539638\n",
       "\n",
       "[82 rows x 2 columns]"
      ]
     },
     "execution_count": 31,
     "metadata": {},
     "output_type": "execute_result"
    }
   ],
   "source": [
    "d2 = {\"Time_code\": x_,\"Predict_amount\": y_new}\n",
    "df2 = pd.DataFrame(d2)\n",
    "df2"
   ]
  },
  {
   "cell_type": "code",
   "execution_count": 32,
   "id": "a95f5a77",
   "metadata": {},
   "outputs": [
    {
     "data": {
      "text/plain": [
       "count      82.000000\n",
       "mean      911.500000\n",
       "std       353.430024\n",
       "min       310.460362\n",
       "25%       610.980181\n",
       "50%       911.500000\n",
       "75%      1212.019819\n",
       "max      1512.539638\n",
       "Name: Predict_amount, dtype: float64"
      ]
     },
     "execution_count": 32,
     "metadata": {},
     "output_type": "execute_result"
    }
   ],
   "source": [
    "df2.Predict_amount.describe()"
   ]
  },
  {
   "cell_type": "code",
   "execution_count": 33,
   "id": "b0a13d6d",
   "metadata": {},
   "outputs": [
    {
     "data": {
      "text/plain": [
       "66540"
      ]
     },
     "execution_count": 33,
     "metadata": {},
     "output_type": "execute_result"
    }
   ],
   "source": [
    "round(y_new.sum()-users.Amount.sum())"
   ]
  },
  {
   "cell_type": "markdown",
   "id": "d2e51ac4",
   "metadata": {},
   "source": [
    "При использовании воссоздания данных с помощью линейной регресиии потери составляют 66540 пользователей."
   ]
  },
  {
   "cell_type": "markdown",
   "id": "7ec87491",
   "metadata": {},
   "source": [
    "Выводы: \n",
    "1. При полученном коэффициенте детерминации R^2 = 0.96 можно использовать линейную регрессию (потери 66540)\n",
    "2. Апроксимация многочленами 2 и 3 порядка ведет к потере данных, уместна апроксимация многочленом 1 порядка (потери 65635)\n",
    "3. Для грубой оценки можно использовать замену потерянных данных средним значением (потери 70281).\n",
    "4. Геометрическое решение задачи можно использовать для быстрой оценки (потери 57367).\n",
    "5. Было реализовано решение с помощью данных, взятых со спада графика, визуализация решения прикреплена отдельно. Решение не очень точное, так как фронт и спад графика имеют разные углы наклона, но для быстрой оценки (1-2 минуты) может быть полезно (потери 48615).\n",
    "\n",
    "Ответ: потери по этому инциденту составляют 66540 пользователей."
   ]
  },
  {
   "cell_type": "code",
   "execution_count": 9,
   "id": "6ab8bbe4",
   "metadata": {},
   "outputs": [],
   "source": [
    "name = 'A'\n"
   ]
  },
  {
   "cell_type": "code",
   "execution_count": 10,
   "id": "898c7dc6",
   "metadata": {},
   "outputs": [
    {
     "data": {
      "text/plain": [
       "'A'"
      ]
     },
     "execution_count": 10,
     "metadata": {},
     "output_type": "execute_result"
    }
   ],
   "source": [
    "name"
   ]
  },
  {
   "cell_type": "code",
   "execution_count": null,
   "id": "d89551e3",
   "metadata": {},
   "outputs": [],
   "source": []
  }
 ],
 "metadata": {
  "celltoolbar": "Отсутствует",
  "kernelspec": {
   "display_name": "Python 3 (ipykernel)",
   "language": "python",
   "name": "python3"
  },
  "language_info": {
   "codemirror_mode": {
    "name": "ipython",
    "version": 3
   },
   "file_extension": ".py",
   "mimetype": "text/x-python",
   "name": "python",
   "nbconvert_exporter": "python",
   "pygments_lexer": "ipython3",
   "version": "3.9.12"
  }
 },
 "nbformat": 4,
 "nbformat_minor": 5
}
